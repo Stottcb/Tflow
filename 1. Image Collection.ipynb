{
 "cells": [
  {
   "cell_type": "markdown",
   "metadata": {},
   "source": [
    "# 1. Import Dependencies"
   ]
  },
  {
   "cell_type": "code",
   "execution_count": 1,
   "metadata": {},
   "outputs": [
    {
     "name": "stdout",
     "output_type": "stream",
     "text": [
      "Requirement already satisfied: opencv-python in /Users/connerstott/Documents/tflow_v3p10/TFODCourse/tfod/lib/python3.10/site-packages (4.8.0.74)\n",
      "Requirement already satisfied: numpy>=1.21.2 in /Users/connerstott/Documents/tflow_v3p10/TFODCourse/tfod/lib/python3.10/site-packages (from opencv-python) (1.24.3)\n"
     ]
    }
   ],
   "source": [
    "!pip install opencv-python"
   ]
  },
  {
   "cell_type": "code",
   "execution_count": 2,
   "metadata": {},
   "outputs": [],
   "source": [
    "# Import opencv\n",
    "import cv2 \n",
    "\n",
    "# Import uuid\n",
    "import uuid\n",
    "\n",
    "# Import Operating System\n",
    "import os\n",
    "\n",
    "# Import time\n",
    "import time"
   ]
  },
  {
   "cell_type": "markdown",
   "metadata": {},
   "source": [
    "# 2. Define Images to Collect"
   ]
  },
  {
   "cell_type": "code",
   "execution_count": 3,
   "metadata": {},
   "outputs": [],
   "source": [
    "labels = ['Cone', 'Cube']\n",
    "number_imgs = 5"
   ]
  },
  {
   "cell_type": "markdown",
   "metadata": {},
   "source": [
    "# 3. Setup Folders "
   ]
  },
  {
   "cell_type": "code",
   "execution_count": 4,
   "metadata": {},
   "outputs": [],
   "source": [
    "IMAGES_PATH = os.path.join('Tensorflow', 'workspace', 'images', 'collectedimages')"
   ]
  },
  {
   "cell_type": "code",
   "execution_count": 5,
   "metadata": {},
   "outputs": [],
   "source": [
    "if not os.path.exists(IMAGES_PATH):\n",
    "    if os.name == 'posix':\n",
    "        !mkdir -p {IMAGES_PATH}\n",
    "    if os.name == 'nt':\n",
    "         !mkdir {IMAGES_PATH}\n",
    "for label in labels:\n",
    "    path = os.path.join(IMAGES_PATH, label)\n",
    "    if not os.path.exists(path):\n",
    "        !mkdir {path}"
   ]
  },
  {
   "cell_type": "markdown",
   "metadata": {},
   "source": [
    "# 4. Capture Images"
   ]
  },
  {
   "cell_type": "code",
   "execution_count": 6,
   "metadata": {},
   "outputs": [
    {
     "data": {
      "text/plain": [
       "\"for label in labels:\\n    cap = cv2.VideoCapture(0)\\n    print('Collecting images for {}'.format(label))\\n    time.sleep(5)\\n    for imgnum in range(number_imgs):\\n        print('Collecting image {}'.format(imgnum))\\n        ret, frame = cap.read()\\n        imgname = os.path.join(IMAGES_PATH,label,label+'.'+'{}.jpg'.format(str(uuid.uuid1())))\\n        cv2.imwrite(imgname, frame)\\n        cv2.imshow('frame', frame)\\n        time.sleep(2)\\n\\n        if cv2.waitKey(1) & 0xFF == ord('q'):\\n            break\\ncap.release()\\ncv2.destroyAllWindows()\""
      ]
     },
     "execution_count": 6,
     "metadata": {},
     "output_type": "execute_result"
    }
   ],
   "source": [
    "'''for label in labels:\n",
    "    cap = cv2.VideoCapture(0)\n",
    "    print('Collecting images for {}'.format(label))\n",
    "    time.sleep(5)\n",
    "    for imgnum in range(number_imgs):\n",
    "        print('Collecting image {}'.format(imgnum))\n",
    "        ret, frame = cap.read()\n",
    "        imgname = os.path.join(IMAGES_PATH,label,label+'.'+'{}.jpg'.format(str(uuid.uuid1())))\n",
    "        cv2.imwrite(imgname, frame)\n",
    "        cv2.imshow('frame', frame)\n",
    "        time.sleep(2)\n",
    "\n",
    "        if cv2.waitKey(1) & 0xFF == ord('q'):\n",
    "            break\n",
    "cap.release()\n",
    "cv2.destroyAllWindows()'''"
   ]
  },
  {
   "cell_type": "markdown",
   "metadata": {},
   "source": [
    "# 5. Image Labelling"
   ]
  },
  {
   "cell_type": "code",
   "execution_count": 7,
   "metadata": {},
   "outputs": [
    {
     "name": "stdout",
     "output_type": "stream",
     "text": [
      "Requirement already satisfied: pyqt5 in /Users/connerstott/Documents/tflow_v3p10/TFODCourse/tfod/lib/python3.10/site-packages (5.15.9)\n",
      "Requirement already satisfied: lxml in /Users/connerstott/Documents/tflow_v3p10/TFODCourse/tfod/lib/python3.10/site-packages (4.9.3)\n",
      "Requirement already satisfied: PyQt5-sip<13,>=12.11 in /Users/connerstott/Documents/tflow_v3p10/TFODCourse/tfod/lib/python3.10/site-packages (from pyqt5) (12.12.1)\n",
      "Requirement already satisfied: PyQt5-Qt5>=5.15.2 in /Users/connerstott/Documents/tflow_v3p10/TFODCourse/tfod/lib/python3.10/site-packages (from pyqt5) (5.15.2)\n"
     ]
    }
   ],
   "source": [
    "!pip install --upgrade pyqt5 lxml"
   ]
  },
  {
   "cell_type": "code",
   "execution_count": 8,
   "metadata": {},
   "outputs": [],
   "source": [
    "LABELIMG_PATH = os.path.join('Tensorflow', 'labelimg')"
   ]
  },
  {
   "cell_type": "code",
   "execution_count": 9,
   "metadata": {},
   "outputs": [],
   "source": [
    "if not os.path.exists(LABELIMG_PATH):\n",
    "    !mkdir {LABELIMG_PATH}\n",
    "    !git clone https://github.com/tzutalin/labelImg {LABELIMG_PATH}"
   ]
  },
  {
   "cell_type": "code",
   "execution_count": 10,
   "metadata": {},
   "outputs": [
    {
     "name": "stdout",
     "output_type": "stream",
     "text": [
      "pyrcc5 -o libs/resources.py resources.qrc\r\n"
     ]
    }
   ],
   "source": [
    "if os.name == 'posix':\n",
    "    !cd {LABELIMG_PATH} && make qt5py3\n",
    "if os.name =='nt':\n",
    "    !cd {LABELIMG_PATH} && pyrcc5 -o libs/resources.py resources.qrc"
   ]
  },
  {
   "cell_type": "code",
   "execution_count": null,
   "metadata": {},
   "outputs": [
    {
     "name": "stdout",
     "output_type": "stream",
     "text": [
      "Image:/Users/connerstott/Documents/Ctflow/TFODCourse/Tensorflow/workspace/images/test/IMG_3028 3.JPG -> Annotation:/Users/connerstott/Documents/Ctflow/TFODCourse/Tensorflow/workspace/images/test/IMG_3028 3.xml\n",
      "Image:/Users/connerstott/Documents/Ctflow/TFODCourse/Tensorflow/workspace/images/test/IMG_3029 3.JPG -> Annotation:/Users/connerstott/Documents/Ctflow/TFODCourse/Tensorflow/workspace/images/test/IMG_3029 3.xml\n",
      "Image:/Users/connerstott/Documents/Ctflow/TFODCourse/Tensorflow/workspace/images/test/IMG_3030 3.JPG -> Annotation:/Users/connerstott/Documents/Ctflow/TFODCourse/Tensorflow/workspace/images/test/IMG_3030 3.xml\n",
      "Image:/Users/connerstott/Documents/Ctflow/TFODCourse/Tensorflow/workspace/images/test/IMG_3031 3.JPG -> Annotation:/Users/connerstott/Documents/Ctflow/TFODCourse/Tensorflow/workspace/images/test/IMG_3031 3.xml\n",
      "Image:/Users/connerstott/Documents/Ctflow/TFODCourse/Tensorflow/workspace/images/test/IMG_3032 3.JPG -> Annotation:/Users/connerstott/Documents/Ctflow/TFODCourse/Tensorflow/workspace/images/test/IMG_3032 3.xml\n",
      "Image:/Users/connerstott/Documents/Ctflow/TFODCourse/Tensorflow/workspace/images/test/IMG_3064 2.JPG -> Annotation:/Users/connerstott/Documents/Ctflow/TFODCourse/Tensorflow/workspace/images/test/IMG_3064 2.xml\n",
      "Image:/Users/connerstott/Documents/Ctflow/TFODCourse/Tensorflow/workspace/images/test/IMG_3065 2.JPG -> Annotation:/Users/connerstott/Documents/Ctflow/TFODCourse/Tensorflow/workspace/images/test/IMG_3065 2.xml\n",
      "Image:/Users/connerstott/Documents/Ctflow/TFODCourse/Tensorflow/workspace/images/test/IMG_3066 2.JPG -> Annotation:/Users/connerstott/Documents/Ctflow/TFODCourse/Tensorflow/workspace/images/test/IMG_3066 2.xml\n",
      "Image:/Users/connerstott/Documents/Ctflow/TFODCourse/Tensorflow/workspace/images/test/IMG_3067 2.JPG -> Annotation:/Users/connerstott/Documents/Ctflow/TFODCourse/Tensorflow/workspace/images/test/IMG_3067 2.xml\n"
     ]
    }
   ],
   "source": [
    "!cd {LABELIMG_PATH} && python labelImg.py"
   ]
  },
  {
   "cell_type": "markdown",
   "metadata": {},
   "source": [
    "# 6. Move them into a Training and Testing Partition"
   ]
  },
  {
   "cell_type": "markdown",
   "metadata": {},
   "source": [
    "# OPTIONAL - 7. Compress them for Colab Training"
   ]
  },
  {
   "cell_type": "code",
   "execution_count": 22,
   "metadata": {},
   "outputs": [],
   "source": [
    "TRAIN_PATH = os.path.join('Tensorflow', 'workspace', 'images', 'train')\n",
    "TEST_PATH = os.path.join('Tensorflow', 'workspace', 'images', 'test')\n",
    "ARCHIVE_PATH = os.path.join('Tensorflow', 'workspace', 'images', 'archive.tar.gz')"
   ]
  },
  {
   "cell_type": "code",
   "execution_count": 23,
   "metadata": {},
   "outputs": [],
   "source": [
    "!tar -czf {ARCHIVE_PATH} {TRAIN_PATH} {TEST_PATH}"
   ]
  },
  {
   "cell_type": "code",
   "execution_count": null,
   "metadata": {},
   "outputs": [],
   "source": []
  }
 ],
 "metadata": {
  "kernelspec": {
   "display_name": "tfod",
   "language": "python",
   "name": "tfod"
  },
  "language_info": {
   "codemirror_mode": {
    "name": "ipython",
    "version": 3
   },
   "file_extension": ".py",
   "mimetype": "text/x-python",
   "name": "python",
   "nbconvert_exporter": "python",
   "pygments_lexer": "ipython3",
   "version": "3.10.12"
  }
 },
 "nbformat": 4,
 "nbformat_minor": 2
}
